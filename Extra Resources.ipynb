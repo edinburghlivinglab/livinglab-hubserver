{
 "cells": [
  {
   "cell_type": "markdown",
   "metadata": {},
   "source": [
    "The aim of this notebook is to provide an introduction to the many other resources there are online for learning about Python, working with data and much much more! Also, we'll cover how you can pull in any of this code and run it here, and how to deal with annoying dependencies.\n",
    "\n",
    "__Contents here, or just overview__."
   ]
  },
  {
   "cell_type": "markdown",
   "metadata": {},
   "source": [
    "# Learning Programming\n",
    "\n",
    "This course isn't designed to introduce you to programming in a serious way, but Jupyter notebooks are a great environment to learn programming in, and [at least 51 different languages are supported][kernels]. Which language you should learn depends on what you plan to do. For normal scientific programming, and beginners, [Python][] is a good choice, thanks to a massive number of supported packages, ease of readability and active community. However, R is very popular among statisticians, fortran among physicisists and Haskell is used at Edinburgh to teach programming. A good comparison can be found [here][meta]. We hope to have kernels available for these in this notebook environment soon(_~August 2015_).\n",
    "\n",
    "There are many free resources for learning different programming languages online; some of which are [notebooks][books]. A classic textbook for learning programming in general is the [Art and Craft of Programming][art], also available online for free. There are also many courses available either as free courseware from other universities or from Coursera (or similar): these are summarised [on this page under \"Where to Learn\"][meta].\n",
    "\n",
    "## Getting a notebook\n",
    "\n",
    "So, as an example, say you've decided you want to follow [this notebook on Learning Python][learningpython]. You could download it to your local computer, then navigate to the tree view and upload it from there, but that's a lot like hard work. You can just execute the following cell to pull it into that notebook to your home directory:\n",
    "\n",
    "[kernels]: https://github.com/ipython/ipython/wiki/IPython-kernels-for-other-languages\n",
    "[python]: https://en.wikipedia.org/wiki/Python_(programming_language)\n",
    "[books]: https://github.com/ipython/ipython/wiki/A-gallery-of-interesting-IPython-Notebooks#programming-and-computer-science\n",
    "[here]: https://www.metacademy.org/roadmaps/rgrosse/basic_programming\n",
    "[art]: http://ip204-5.sth.wku.edu/cs170Web/book/book.pdf\n",
    "[learningpython]: http://nbviewer.ipython.org/urls/bitbucket.org/amjoconn/watpy-learning-to-code-with-python/raw/3441274a54c7ff6ff3e37285aafcbbd8cb4774f0/notebook/Learn%20to%20Code%20with%20Python.ipynb"
   ]
  },
  {
   "cell_type": "code",
   "execution_count": 20,
   "metadata": {
    "collapsed": false
   },
   "outputs": [
    {
     "name": "stderr",
     "output_type": "stream",
     "text": [
      "  % Total    % Received % Xferd  Average Speed   Time    Time     Time  Current\n",
      "                                 Dload  Upload   Total   Spent    Left  Speed\n",
      "\r",
      "  0     0    0     0    0     0      0      0 --:--:-- --:--:-- --:--:--     0\r",
      " 17 75752   17 13416    0     0  17841      0  0:00:04 --:--:--  0:00:04 17840\r",
      "100 75752  100 75752    0     0  97210      0 --:--:-- --:--:-- --:--:-- 97117\n"
     ]
    }
   ],
   "source": [
    "%%bash\n",
    "curl http://nbviewer.ipython.org/urls/bitbucket.org/amjoconn/watpy-learning-to-code-with-python/raw/3441274a54c7ff6ff3e37285aafcbbd8cb4774f0/notebook/Learn%20to%20Code%20with%20Python.ipynb > Learn-to-Code-with-Python.ipynb"
   ]
  },
  {
   "cell_type": "markdown",
   "metadata": {},
   "source": [
    "Taking apart this command:\n",
    "\n",
    "* First, the [%%bash cell magic][magic] says to execute the following cell in a [bash][] shell, independent of the notebook. So anything in the cell is going to be executed like a shell script on the command line.\n",
    "* Next, we're using the [curl][] command, which takes a web address and prints the page source onto standard output (ie it would just print the web page source to the terminal, if it weren't for the rest of the command).\n",
    "* Since we want the page in a file we use the `>` operator to pipe the output of the curl command into a file.\n",
    "* And the file name we've chosen is `Learning-to-code-Python.ipynb`.\n",
    "\n",
    "So now, if you find a notebook file hosted anywhere on the internet you can download it with curl using the address and put it in whatever file you like.\n",
    "\n",
    "## Getting a repository\n",
    "\n",
    "However, if you wanted to pull in an entire repository the command is different, because we're going to use the [Git version control system][git]. So, for example, say you want the [ipython minibook code][minibook], then you need to clone the repository. To do that you'll need the _clone url_, which is highlighted in the following image:\n",
    "\n",
    "![Example Image of clone url location](https://raw.githubusercontent.com/edinburghlivinglab/livinglab-hubserver/master/minibook-repo.png)\n",
    "\n",
    "We would like to clone with `https` in this case, so the corresponding url is `https://github.com/ipython-books/minibook-code.git`. Now, we just need to use the following `git` command:\n",
    "\n",
    "[git]: https://git-scm.com/\n",
    "[magic]: https://ipython.org/ipython-doc/dev/interactive/magics.html#cell-magics\n",
    "[bash]: https://en.wikipedia.org/wiki/Bash_%28Unix_shell%29\n",
    "[curl]: https://en.wikipedia.org/wiki/CURL\n",
    "[minibook]: https://github.com/ipython-books/minibook-code"
   ]
  },
  {
   "cell_type": "code",
   "execution_count": 23,
   "metadata": {
    "collapsed": false
   },
   "outputs": [
    {
     "name": "stderr",
     "output_type": "stream",
     "text": [
      "Cloning into 'minibook-code'...\n"
     ]
    }
   ],
   "source": [
    "%%bash\n",
    "git clone https://github.com/ipython-books/minibook-code.git"
   ]
  },
  {
   "cell_type": "markdown",
   "metadata": {},
   "source": [
    "Which has created a directory containing _everything_ in that repository, including the entire revision history:"
   ]
  },
  {
   "cell_type": "code",
   "execution_count": 24,
   "metadata": {
    "collapsed": false
   },
   "outputs": [
    {
     "name": "stdout",
     "output_type": "stream",
     "text": [
      "/home/gngdb/minibook-code\n"
     ]
    }
   ],
   "source": [
    "cd minibook-code/"
   ]
  },
  {
   "cell_type": "code",
   "execution_count": 25,
   "metadata": {
    "collapsed": false
   },
   "outputs": [
    {
     "name": "stdout",
     "output_type": "stream",
     "text": [
      "\u001b[0m\u001b[01;34mchapter2\u001b[0m/  \u001b[01;34mchapter3\u001b[0m/  \u001b[01;34mchapter4\u001b[0m/  \u001b[01;34mchapter5\u001b[0m/  \u001b[01;34mchapter6\u001b[0m/  README.md\r\n"
     ]
    }
   ],
   "source": [
    "ls"
   ]
  },
  {
   "cell_type": "markdown",
   "metadata": {},
   "source": [
    "The following is an example of the git log (extremely short as the code in this repository has just been migrated from another project):"
   ]
  },
  {
   "cell_type": "code",
   "execution_count": 36,
   "metadata": {
    "collapsed": false
   },
   "outputs": [
    {
     "name": "stdout",
     "output_type": "stream",
     "text": [
      "commit de93d0a33a8918c6ac490428048e1a8dfcc81e87\n",
      "Author: Cyrille Rossant <cyrille.rossant@gmail.com>\n",
      "Date:   Sun Sep 28 14:07:40 2014 +0200\n",
      "\n",
      "    Added code.\n",
      "\n",
      "commit 55bb3607ccf36536a7b8bfe99e54806932872a3e\n",
      "Author: Cyrille Rossant <rossant@users.noreply.github.com>\n",
      "Date:   Tue Oct 29 06:03:07 2013 -0700\n",
      "\n",
      "    Initial commit\n"
     ]
    }
   ],
   "source": [
    "%%bash\n",
    "git log "
   ]
  },
  {
   "cell_type": "code",
   "execution_count": 37,
   "metadata": {
    "collapsed": false
   },
   "outputs": [
    {
     "name": "stdout",
     "output_type": "stream",
     "text": [
      "/home/gngdb\n"
     ]
    }
   ],
   "source": [
    "cd .."
   ]
  },
  {
   "cell_type": "markdown",
   "metadata": {},
   "source": [
    "## Learning Python\n",
    "\n",
    "The following cell will pull in the following repositories useful for learning Python and put them in a subdirectoy `learning-python`:\n",
    "\n",
    "* [Introduction to Programming with Python][intro] access the contents [here][introcontents].\n",
    "* [Tel Aviv Recitation Notebooks][telaviv] access the contents [here][avivcontents].\n",
    "\n",
    "[intro]: http://nbviewer.ipython.org/github/ehmatthes/intro_programming/blob/master/notebooks/index.ipynb\n",
    "[introcontents]: ../tree/learning-python/intro_programming/notebooks\n",
    "[telaviv]: https://github.com/yoavram/CS1001.py\n",
    "[avivcontents]: ../tree/learning-python/CS1001.py"
   ]
  },
  {
   "cell_type": "code",
   "execution_count": 42,
   "metadata": {
    "collapsed": false
   },
   "outputs": [
    {
     "name": "stderr",
     "output_type": "stream",
     "text": [
      "Cloning into 'intro_programming'...\n",
      "Cloning into 'CS1001.py'...\n"
     ]
    }
   ],
   "source": [
    "%%bash\n",
    "mkdir learning-python\n",
    "cd learning-python\n",
    "git clone https://github.com/ehmatthes/intro_programming.git\n",
    "git clone https://github.com/yoavram/CS1001.py.git"
   ]
  },
  {
   "cell_type": "markdown",
   "metadata": {},
   "source": [
    "## Even more resources\n",
    "\n",
    "Here are some other things that may be useful:\n",
    "\n",
    "* Miscellaneous Python resources:\n",
    "    * [pycrumbs][]: a wiki page populated with a massive number of useful links (e.g. if you wanted to program something for Google Glass, [it's there][glass]).\n",
    "    * [pythonidae][]: an index of tools for scientific programming in Python for practically any task.\n",
    "    * [awesome-python][awesome]: an index of Python tools for everything.\n",
    "    \n",
    "[pycrumbs]: https://github.com/kirang89/pycrumbs/blob/master/pycrumbs.md\n",
    "[glass]: https://github.com/kirang89/pycrumbs/blob/master/pycrumbs.md#google-glass\n",
    "[pythonidae]: https://github.com/svaksha/pythonidae/tree/5c1d78e13562be3a5f40c7b1ef71ced64c65201a\n",
    "[awesome]: https://github.com/vinta/awesome-python"
   ]
  },
  {
   "cell_type": "markdown",
   "metadata": {},
   "source": [
    "# Dealing with Data in Python\n",
    "\n",
    "Python is a popular language for Science and data science, and many of the [most popular notebooks][popular] are data science using Python. Therefore, there are also some very good introductions to data science available as IPython notebooks.\n",
    "\n",
    "The following cell will populate a repository `python-data-science` with some of the best resources for learning data science techniques in Python:\n",
    "\n",
    "* [Learn Data Science][lds]\n",
    "* [An Introduction to Pandas][pds]\n",
    "* [Holoviews Tutorials][hlv]\n",
    "* [A Tutorial on Model Reliability][rel]\n",
    "* [Statistics and data analysis in Python][sts]\n",
    "* [Python-for-Data-Analysis][dta]\n",
    "* [Simple Machine Learning with Scikit-Learn][skt]\n",
    "* [Parallel Machine Learning with Scikit-Learn][par]\n",
    "\n",
    "[popular]: http://beautifuldata.net/2014/03/datalicious-notebookmania-my-favorite-7-ipython-notebooks/\n",
    "[lds]: https://github.com/nborwankar/LearnDataScience\n",
    "[skt]: https://github.com/amueller/tutorial_ml_gkbionics/tree/77093328da2ed5b1f00387bdf931f3312f969f11\n",
    "[par]: https://github.com/ogrisel/parallel_ml_tutorial\n",
    "[pds]: https://bitbucket.org/hrojas/learn-pandas\n",
    "[rel]: http://nbviewer.ipython.org/github/mwaskom/Psych216/blob/master/week6_tutorial.ipynb\n",
    "[hlv]: http://ioam.github.io/holoviews/\n",
    "[sts]: https://github.com/mwaskom/Psych216\n",
    "[dta]: https://github.com/ResearchComputing/Meetup-Fall-2013"
   ]
  },
  {
   "cell_type": "code",
   "execution_count": 45,
   "metadata": {
    "collapsed": false
   },
   "outputs": [
    {
     "name": "stderr",
     "output_type": "stream",
     "text": [
      "Cloning into 'Learn-Data-Science'...\n",
      "Checking out files:  19% (33/170)   \r",
      "Checking out files:  20% (34/170)   \r",
      "Checking out files:  21% (36/170)   \r",
      "Checking out files:  22% (38/170)   \r",
      "Checking out files:  23% (40/170)   \r",
      "Checking out files:  24% (41/170)   \r",
      "Checking out files:  25% (43/170)   \r",
      "Checking out files:  25% (44/170)   \r",
      "Checking out files:  26% (45/170)   \r",
      "Checking out files:  27% (46/170)   \r",
      "Checking out files:  28% (48/170)   \r",
      "Checking out files:  29% (50/170)   \r",
      "Checking out files:  30% (51/170)   \r",
      "Checking out files:  31% (53/170)   \r",
      "Checking out files:  32% (55/170)   \r",
      "Checking out files:  33% (57/170)   \r",
      "Checking out files:  34% (58/170)   \r",
      "Checking out files:  35% (60/170)   \r",
      "Checking out files:  36% (62/170)   \r",
      "Checking out files:  37% (63/170)   \r",
      "Checking out files:  38% (65/170)   \r",
      "Checking out files:  39% (67/170)   \r",
      "Checking out files:  40% (68/170)   \r",
      "Checking out files:  41% (70/170)   \r",
      "Checking out files:  42% (72/170)   \r",
      "Checking out files:  43% (74/170)   \r",
      "Checking out files:  44% (75/170)   \r",
      "Checking out files:  45% (77/170)   \r",
      "Checking out files:  46% (79/170)   \r",
      "Checking out files:  47% (80/170)   \r",
      "Checking out files:  48% (82/170)   \r",
      "Checking out files:  49% (84/170)   \r",
      "Checking out files:  50% (85/170)   \r",
      "Checking out files:  51% (87/170)   \r",
      "Checking out files:  52% (89/170)   \r",
      "Checking out files:  53% (91/170)   \r",
      "Checking out files:  54% (92/170)   \r",
      "Checking out files:  55% (94/170)   \r",
      "Checking out files:  56% (96/170)   \r",
      "Checking out files:  57% (97/170)   \r",
      "Checking out files:  58% (99/170)   \r",
      "Checking out files:  59% (101/170)   \r",
      "Checking out files:  60% (102/170)   \r",
      "Checking out files:  61% (104/170)   \r",
      "Checking out files:  62% (106/170)   \r",
      "Checking out files:  63% (108/170)   \r",
      "Checking out files:  64% (109/170)   \r",
      "Checking out files:  65% (111/170)   \r",
      "Checking out files:  66% (113/170)   \r",
      "Checking out files:  67% (114/170)   \r",
      "Checking out files:  68% (116/170)   \r",
      "Checking out files:  69% (118/170)   \r",
      "Checking out files:  70% (119/170)   \r",
      "Checking out files:  71% (121/170)   \r",
      "Checking out files:  72% (123/170)   \r",
      "Checking out files:  73% (125/170)   \r",
      "Checking out files:  74% (126/170)   \r",
      "Checking out files:  75% (128/170)   \r",
      "Checking out files:  76% (130/170)   \r",
      "Checking out files:  77% (131/170)   \r",
      "Checking out files:  78% (133/170)   \r",
      "Checking out files:  79% (135/170)   \r",
      "Checking out files:  80% (136/170)   \r",
      "Checking out files:  81% (138/170)   \r",
      "Checking out files:  82% (140/170)   \r",
      "Checking out files:  83% (142/170)   \r",
      "Checking out files:  84% (143/170)   \r",
      "Checking out files:  85% (145/170)   \r",
      "Checking out files:  86% (147/170)   \r",
      "Checking out files:  87% (148/170)   \r",
      "Checking out files:  88% (150/170)   \r",
      "Checking out files:  89% (152/170)   \r",
      "Checking out files:  90% (153/170)   \r",
      "Checking out files:  91% (155/170)   \r",
      "Checking out files:  92% (157/170)   \r",
      "Checking out files:  93% (159/170)   \r",
      "Checking out files:  94% (160/170)   \r",
      "Checking out files:  95% (162/170)   \r",
      "Checking out files:  96% (164/170)   \r",
      "Checking out files:  97% (165/170)   \r",
      "Checking out files:  98% (167/170)   \r",
      "Checking out files:  99% (169/170)   \r",
      "Checking out files: 100% (170/170)   \r",
      "Checking out files: 100% (170/170), done.\n",
      "  % Total    % Received % Xferd  Average Speed   Time    Time     Time  Current\n",
      "                                 Dload  Upload   Total   Spent    Left  Speed\n",
      "\r",
      "  0     0    0     0    0     0      0      0 --:--:-- --:--:-- --:--:--     0\r",
      "  0     0    0     0    0     0      0      0 --:--:-- --:--:-- --:--:--     0\r",
      "100  228k  100  228k    0     0   305k      0 --:--:-- --:--:-- --:--:--  304k\n",
      "Cloning into 'holoviews'...\n",
      "Cloning into 'An-Introduction-To-Pandas'...\n",
      "Cloning into 'Simple-Machine-Learning-with-Scikit-Learn'...\n",
      "Cloning into 'Statistics-and-Data-Analysis-in-Python'...\n",
      "Cloning into 'Parralel-Machine-Learning-with-Scikit-Learn'...\n",
      "Cloning into 'Meetup-Fall-2013'...\n"
     ]
    }
   ],
   "source": [
    "%%bash\n",
    "mkdir python-data-science\n",
    "cd python-data-science\n",
    "git clone https://github.com/nborwankar/LearnDataScience.git Learn-Data-Science\n",
    "curl https://raw.githubusercontent.com/mwaskom/Psych216/master/week6_tutorial.ipynb > A-Tutorial-on-Model-Reliability.ipynb\n",
    "mkdir Holoviews-tutorials\n",
    "git clone https://github.com/ioam/holoviews.git\n",
    "mv holoviews/doc/Tutorials/* Holoviews-tutorials/\n",
    "rm -rf holoviews\n",
    "git clone https://bitbucket.org/hrojas/learn-pandas.git An-Introduction-To-Pandas\n",
    "git clone https://github.com/amueller/tutorial_ml_gkbionics.git Simple-Machine-Learning-with-Scikit-Learn\n",
    "git clone https://github.com/mwaskom/Psych216.git Statistics-and-Data-Analysis-in-Python\n",
    "git clone https://github.com/ogrisel/parallel_ml_tutorial.git Paralel-Machine-Learning-with-Scikit-Learn\n",
    "git clone https://github.com/ResearchComputing/Meetup-Fall-2013.git\n",
    "mkdir Python-for-Data-Analysis\n",
    "mv Meetup-Fall-2013/python/* Python-for-Data-Analysis/\n",
    "rm -rf Meetup-Fall-2013"
   ]
  },
  {
   "cell_type": "markdown",
   "metadata": {},
   "source": [
    "# Recommendations\n",
    "\n",
    "The following are recommendations by me, Gavin Gray, and not necessarily the opinion of the course, Edinburgh University or anyone else. I just wanted to provide some recommendations of useful resources and tools if you would like to approach some more advanced concepts in data science.\n",
    "\n",
    "First, I have to recommend [Probabilistic Programming and Bayesian Methods for Hackers][ppbmh]. If you're not familiar with probabilistic programming, then the title will make no sense to you. Probabilistic programming is a way of separating the model building part of data science from what is called the _inference_ part of data science, which usually is the algorithm that actually makes the prediction. Usually, you'd like your model to be a little bit more complicated, because the real world is a complicated place, but to write the algorithm that you'd need to be able to make predictions using this model would take a long time. There are some drawbacks to this method, such as problems with scaling to large datasets, but these are discussed well in the book itself, along with what probabilistic programming is and how it works. Practically speaking, if this is applied well, it is a very good way of doing Bayesian statistics and I would say it's a very good way to attack the kinds of problems people would normally use statistics for. Finally, note that if your model is correct _and_ you can do inference then you will make the best predictions possible (given the data); for an example of this, see [Iain Murray's Dark Worlds blog post][iain].\n",
    "\n",
    "If you encounter terms that you don't understand, or a concept you've heard of but haven't quite got the hang of yet, then probably the best place to go is [Metacademy][meta]. The idea is that it is a \"package manager for knowledge\"; a package manager being something that keeps track of packages you've installed (typically on linux) and makes sure that you've already installed everything that a given package depends on to work. Applied to knowledge, that means you get a list of dependencies you can tick off before you reach the thing you want to understand, rather than reading the same page in a textbook over and over wondering why you don't understand a step in the reasoning. Also, they only link to _other resources_, rather than trying to reinvent the wheel. So, you get the best resource for a given topic, which is often a pdf of open access lecture notes that just happens to be written very well, or a pre-print textbook that you can download for free. And, they give _multiple resources_ so you can try the second if you don't like the style in the first.\n",
    "\n",
    "I fully endorse [this list of notebooks on various topics][list]. Particularly the parallel machine learning tutorial (which is added if you ran the cell above for python-data-science) was very useful to me when I was working on a biological data science project where we had to speed up processing by parallelising. In addition to that, since Oliver Grisel is a scikit-learn dev he shows how to use all of the scikit-learn tools quickly and efficiently, and highlights some potential pitfalls. Also, the [notebook on d3.js][d3] may come in useful if you would like one day to make [something like this][d3].\n",
    "\n",
    "If you would like to look at the code from research papers, one of the best resources available (and getting better rapidly) is [GitXiv][]. The idea is to match papers with code that will replicate the results of the paper, thus leading to reproducible science. One nice thing about the way they are doing it is the first person to reproduce the results of the paper can simply link their code to the paper, so even if the original authors don't release their code, the code can still make it into the open. Many of these have IPython notebooks.\n",
    "\n",
    "Finally, (and this is _very biased_) there are some great notebooks on deep learning available; making it relatively easy to do some difficult things. For instance, if you saw the [deep dream blog post][dd] by Google recently, did you know that you can grab a notebook with [all of the code to make those images][ddnotes]. More recently, there has been work [redrawing images in the style of other images][na] (usually famous paintings) and [there are notebooks on how to do this][nanotes]. Playing with these is fun, but you will have problems running them on our server, or on your own machine. To run these, you really need a computer with a powerful GPU and the appropriate drivers set up. One easy way to do this would be using [Amazon's EC2][ec2], and this would involve setting up the remote server with an IPython notebook server and using an ssh tunnel to access it on your local machine. That's beyond our scope, but there are tutorials online that will cover it.\n",
    "\n",
    "[ppbmh]: http://camdavidsonpilon.github.io/Probabilistic-Programming-and-Bayesian-Methods-for-Hackers/\n",
    "[iain]: http://blog.kaggle.com/2012/12/19/a-bayesian-approach-to-observing-dark-worlds/\n",
    "[meta]: https://www.metacademy.org/\n",
    "[list]: http://beautifuldata.net/2014/03/datalicious-notebookmania-my-favorite-7-ipython-notebooks/\n",
    "[d3]: https://github.com/ellisonbg/talk-2014-strata-sc\n",
    "[r3d3]: http://www.r2d3.us/visual-intro-to-machine-learning-part-1/\n",
    "[dd]: http://googleresearch.blogspot.co.uk/2015/06/inceptionism-going-deeper-into-neural.html\n",
    "[ddnotes]: https://github.com/google/deepdream/blob/master/dream.ipynb\n",
    "[na]: http://gitxiv.com/posts/jG46ukGod8R7Rdtud/a-neural-algorithm-of-artistic-style\n",
    "[nanotes]: https://github.com/Lasagne/Recipes/blob/master/examples/styletransfer/Art%20Style%20Transfer.ipynb\n",
    "[ec2]: https://www.kaggle.com/c/facial-keypoints-detection/details/deep-learning-tutorial\n",
    "[gitxiv]: http://gitxiv.com/"
   ]
  },
  {
   "cell_type": "code",
   "execution_count": 55,
   "metadata": {
    "collapsed": false,
    "scrolled": true
   },
   "outputs": [
    {
     "name": "stderr",
     "output_type": "stream",
     "text": [
      "Cloning into 'Probabilistic-Programming-and-Bayesian-Methods-for-Hackers'...\n",
      "Cloning into 'Kalman-and-Bayesian-Filters-in-Python'...\n",
      "Cloning into 'Mining-the-Social-Web-2nd-Edition'...\n",
      "Cloning into '538model'...\n",
      "  % Total    % Received % Xferd  Average Speed   Time    Time     Time  Current\n",
      "                                 Dload  Upload   Total   Spent    Left  Speed\n",
      "\r",
      "  0     0    0     0    0     0      0      0 --:--:-- --:--:-- --:--:--     0\r",
      "  0  663k    0     0    0     0      0      0 --:--:-- --:--:-- --:--:--     0\r",
      " 45  663k   45  304k    0     0   199k      0  0:00:03  0:00:01  0:00:02  199k\r",
      "100  663k  100  663k    0     0   322k      0  0:00:02  0:00:02 --:--:--  322k\n",
      "Cloning into 'talk-2014-strata-sc'...\n",
      "  % Total    % Received % Xferd  Average Speed   Time    Time     Time  Current\n",
      "                                 Dload  Upload   Total   Spent    Left  Speed\n",
      "\r",
      "  0     0    0     0    0     0      0      0 --:--:-- --:--:-- --:--:--     0\r",
      " 51 39075   51 20024    0     0  24488      0  0:00:01 --:--:--  0:00:01 24479\r",
      "100 39075  100 39075    0     0  47695      0 --:--:-- --:--:-- --:--:-- 47652\n"
     ]
    }
   ],
   "source": [
    "%%bash\n",
    "mkdir recommendations\n",
    "cd recommendations\n",
    "git clone https://github.com/CamDavidsonPilon/Probabilistic-Programming-and-Bayesian-Methods-for-Hackers.git\n",
    "git clone https://github.com/rlabbe/Kalman-and-Bayesian-Filters-in-Python.git\n",
    "git clone https://github.com/ptwobrussell/Mining-the-Social-Web-2nd-Edition.git\n",
    "git clone https://github.com/jseabold/538model.git\n",
    "curl https://dato.com/learn/gallery/notebooks/graph_analytics_movies.ipynb > Seven-Degrees-of-Kevin-Bacon.ipynb\n",
    "git clone https://github.com/ellisonbg/talk-2014-strata-sc.git\n",
    "curl http://norvig.com/ipython/xkcd1313.ipynb > Norvig-regex-golf.ipynb"
   ]
  },
  {
   "cell_type": "markdown",
   "metadata": {},
   "source": [
    "# Dependencies\n",
    "\n",
    "So you've looked through the projects that are available and cloned one you think looks interesting and you want to start coding. But, you start up the notebook and this happens:"
   ]
  },
  {
   "cell_type": "code",
   "execution_count": 1,
   "metadata": {
    "collapsed": false
   },
   "outputs": [
    {
     "ename": "ImportError",
     "evalue": "No module named 'pymc'",
     "output_type": "error",
     "traceback": [
      "\u001b[1;31m---------------------------------------------------------------------------\u001b[0m",
      "\u001b[1;31mImportError\u001b[0m                               Traceback (most recent call last)",
      "\u001b[1;32m<ipython-input-1-5f262cfcb99b>\u001b[0m in \u001b[0;36m<module>\u001b[1;34m()\u001b[0m\n\u001b[1;32m----> 1\u001b[1;33m \u001b[1;32mimport\u001b[0m \u001b[0mpymc\u001b[0m\u001b[1;33m\u001b[0m\u001b[0m\n\u001b[0m",
      "\u001b[1;31mImportError\u001b[0m: No module named 'pymc'"
     ]
    }
   ],
   "source": [
    "import pymc"
   ]
  },
  {
   "cell_type": "markdown",
   "metadata": {},
   "source": [
    "So what's happened is we've tried to import the package [PyMC][], but we haven't installed it yet so we get an `ImportError`. Normally, if you were on you're own computer you could just run the following:\n",
    "\n",
    "[pymc]: https://pymc-devs.github.io/pymc/"
   ]
  },
  {
   "cell_type": "code",
   "execution_count": 3,
   "metadata": {
    "collapsed": false
   },
   "outputs": [
    {
     "name": "stdout",
     "output_type": "stream",
     "text": [
      "Collecting pymc\n",
      "  Using cached pymc-2.3.4.tar.gz\n",
      "Building wheels for collected packages: pymc\n",
      "  Running setup.py bdist_wheel for pymc\n",
      "  Stored in directory: /home/gngdb/.cache/pip/wheels/2a/2e/f2/bc40a944cdf707740a33c85e81dda55b4667f783d4850f84ea\n",
      "Successfully built pymc\n",
      "Installing collected packages: pymc\n",
      "\u001b[31mException:\n",
      "Traceback (most recent call last):\n",
      "  File \"/usr/local/lib/python3.4/dist-packages/pip/basecommand.py\", line 211, in main\n",
      "    status = self.run(options, args)\n",
      "  File \"/usr/local/lib/python3.4/dist-packages/pip/commands/install.py\", line 311, in run\n",
      "    root=options.root_path,\n",
      "  File \"/usr/local/lib/python3.4/dist-packages/pip/req/req_set.py\", line 646, in install\n",
      "    **kwargs\n",
      "  File \"/usr/local/lib/python3.4/dist-packages/pip/req/req_install.py\", line 803, in install\n",
      "    self.move_wheel_files(self.source_dir, root=root)\n",
      "  File \"/usr/local/lib/python3.4/dist-packages/pip/req/req_install.py\", line 998, in move_wheel_files\n",
      "    isolated=self.isolated,\n",
      "  File \"/usr/local/lib/python3.4/dist-packages/pip/wheel.py\", line 339, in move_wheel_files\n",
      "    clobber(source, lib_dir, True)\n",
      "  File \"/usr/local/lib/python3.4/dist-packages/pip/wheel.py\", line 310, in clobber\n",
      "    ensure_dir(destdir)\n",
      "  File \"/usr/local/lib/python3.4/dist-packages/pip/utils/__init__.py\", line 71, in ensure_dir\n",
      "    os.makedirs(path)\n",
      "  File \"/usr/lib/python3.4/os.py\", line 237, in makedirs\n",
      "    mkdir(name, mode)\n",
      "PermissionError: [Errno 13] Permission denied: '/usr/local/lib/python3.4/dist-packages/pymc'\u001b[0m\n"
     ]
    }
   ],
   "source": [
    "!pip3 install pymc"
   ]
  },
  {
   "cell_type": "markdown",
   "metadata": {},
   "source": [
    "As you can see, this fails because we don't have sufficient privileges. On your own computer you could use [sudo][]. We can get around this by installing to our _user account_ with the `--user` flag:\n",
    "\n",
    "[sudo]: https://en.wikipedia.org/wiki/Sudo"
   ]
  },
  {
   "cell_type": "code",
   "execution_count": 4,
   "metadata": {
    "collapsed": false
   },
   "outputs": [
    {
     "name": "stdout",
     "output_type": "stream",
     "text": [
      "Collecting pymc\n",
      "Installing collected packages: pymc\n",
      "Successfully installed pymc\n"
     ]
    }
   ],
   "source": [
    "!pip3 install --user pymc"
   ]
  },
  {
   "cell_type": "markdown",
   "metadata": {},
   "source": [
    "Unfortunately, importing will _still fail_:"
   ]
  },
  {
   "cell_type": "code",
   "execution_count": 5,
   "metadata": {
    "collapsed": false
   },
   "outputs": [
    {
     "ename": "ImportError",
     "evalue": "No module named 'pymc'",
     "output_type": "error",
     "traceback": [
      "\u001b[1;31m---------------------------------------------------------------------------\u001b[0m",
      "\u001b[1;31mImportError\u001b[0m                               Traceback (most recent call last)",
      "\u001b[1;32m<ipython-input-5-5f262cfcb99b>\u001b[0m in \u001b[0;36m<module>\u001b[1;34m()\u001b[0m\n\u001b[1;32m----> 1\u001b[1;33m \u001b[1;32mimport\u001b[0m \u001b[0mpymc\u001b[0m\u001b[1;33m\u001b[0m\u001b[0m\n\u001b[0m",
      "\u001b[1;31mImportError\u001b[0m: No module named 'pymc'"
     ]
    }
   ],
   "source": [
    "import pymc"
   ]
  },
  {
   "cell_type": "markdown",
   "metadata": {},
   "source": [
    "When Python tries to install a package, it looks in [a few places][pypath], and it turns out that when you install something with the `--user` flag it is installed to your user account at `~/.local/`:\n",
    "\n",
    "[pypath]: https://docs.python.org/2/library/sys.html#sys.path"
   ]
  },
  {
   "cell_type": "code",
   "execution_count": 11,
   "metadata": {
    "collapsed": false
   },
   "outputs": [
    {
     "name": "stdout",
     "output_type": "stream",
     "text": [
      "pymc  pymc-2.3.4.dist-info\r\n"
     ]
    }
   ],
   "source": [
    "!ls ~/.local/lib/python3.4/site-packages"
   ]
  },
  {
   "cell_type": "markdown",
   "metadata": {},
   "source": [
    "And Python is only looking in:"
   ]
  },
  {
   "cell_type": "code",
   "execution_count": 12,
   "metadata": {
    "collapsed": false
   },
   "outputs": [
    {
     "data": {
      "text/plain": [
       "['',\n",
       " '/usr/local/dds-notebooks',\n",
       " '/usr/lib/python3.4',\n",
       " '/usr/lib/python3.4/plat-x86_64-linux-gnu',\n",
       " '/usr/lib/python3.4/lib-dynload',\n",
       " '/usr/local/lib/python3.4/dist-packages',\n",
       " '/usr/lib/python3/dist-packages',\n",
       " '/usr/local/lib/python3.4/dist-packages/IPython/extensions']"
      ]
     },
     "execution_count": 12,
     "metadata": {},
     "output_type": "execute_result"
    }
   ],
   "source": [
    "import sys\n",
    "sys.path"
   ]
  },
  {
   "cell_type": "markdown",
   "metadata": {},
   "source": [
    "_However_, if we add the above path to Python's path, we will be able to import the package:"
   ]
  },
  {
   "cell_type": "code",
   "execution_count": 18,
   "metadata": {
    "collapsed": false
   },
   "outputs": [],
   "source": [
    "sys.path.append(\"/home/gngdb/.local/lib/python3.4/site-packages/\")"
   ]
  },
  {
   "cell_type": "code",
   "execution_count": 19,
   "metadata": {
    "collapsed": false
   },
   "outputs": [],
   "source": [
    "import pymc"
   ]
  },
  {
   "cell_type": "markdown",
   "metadata": {},
   "source": [
    "Although, this will only persist in this notebook session _after_ we've run the `sys.path.append` command. In a new notebook, we'll have to run the `sys.path.append` command again. But, this will include any packages we've installed using `pip install --user`, so it is a fairly useful way to install extra packages. For some packages, this can also be done by just cloning the git repository and adding this directory to your path using `sys.path.append` again."
   ]
  }
 ],
 "metadata": {
  "kernelspec": {
   "display_name": "Python 3",
   "language": "python",
   "name": "python3"
  },
  "language_info": {
   "codemirror_mode": {
    "name": "ipython",
    "version": 3
   },
   "file_extension": ".py",
   "mimetype": "text/x-python",
   "name": "python",
   "nbconvert_exporter": "python",
   "pygments_lexer": "ipython3",
   "version": "3.4.0"
  }
 },
 "nbformat": 4,
 "nbformat_minor": 0
}
